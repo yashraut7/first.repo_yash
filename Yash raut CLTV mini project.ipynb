{
 "cells": [
  {
   "cell_type": "code",
   "execution_count": 145,
   "id": "9df8c7b5",
   "metadata": {},
   "outputs": [],
   "source": [
    "#import liabraries\n",
    "import pandas as pd\n",
    "from sklearn.metrics import classification_report,confusion_matrix\n",
    "import matplotlib.pyplot as plt\n",
    "import numpy as np\n",
    "import seaborn as sns"
   ]
  },
  {
   "cell_type": "code",
   "execution_count": 146,
   "id": "91549f75",
   "metadata": {},
   "outputs": [],
   "source": [
    "#read data from csv\n",
    "cltv = pd.read_csv('CLTV.csv')"
   ]
  },
  {
   "cell_type": "code",
   "execution_count": 147,
   "id": "dc211cde",
   "metadata": {},
   "outputs": [
    {
     "data": {
      "text/html": [
       "<div>\n",
       "<style scoped>\n",
       "    .dataframe tbody tr th:only-of-type {\n",
       "        vertical-align: middle;\n",
       "    }\n",
       "\n",
       "    .dataframe tbody tr th {\n",
       "        vertical-align: top;\n",
       "    }\n",
       "\n",
       "    .dataframe thead th {\n",
       "        text-align: right;\n",
       "    }\n",
       "</style>\n",
       "<table border=\"1\" class=\"dataframe\">\n",
       "  <thead>\n",
       "    <tr style=\"text-align: right;\">\n",
       "      <th></th>\n",
       "      <th>id</th>\n",
       "      <th>gender</th>\n",
       "      <th>area</th>\n",
       "      <th>qualification</th>\n",
       "      <th>income</th>\n",
       "      <th>marital_status</th>\n",
       "      <th>vintage</th>\n",
       "      <th>claim_amount</th>\n",
       "      <th>num_policies</th>\n",
       "      <th>policy</th>\n",
       "      <th>type_of_policy</th>\n",
       "      <th>cltv</th>\n",
       "    </tr>\n",
       "  </thead>\n",
       "  <tbody>\n",
       "    <tr>\n",
       "      <th>0</th>\n",
       "      <td>1</td>\n",
       "      <td>Male</td>\n",
       "      <td>Urban</td>\n",
       "      <td>Bachelor</td>\n",
       "      <td>5L-10L</td>\n",
       "      <td>1</td>\n",
       "      <td>5</td>\n",
       "      <td>5790</td>\n",
       "      <td>More than 1</td>\n",
       "      <td>A</td>\n",
       "      <td>Platinum</td>\n",
       "      <td>64308</td>\n",
       "    </tr>\n",
       "    <tr>\n",
       "      <th>1</th>\n",
       "      <td>2</td>\n",
       "      <td>Male</td>\n",
       "      <td>Rural</td>\n",
       "      <td>High School</td>\n",
       "      <td>5L-10L</td>\n",
       "      <td>0</td>\n",
       "      <td>8</td>\n",
       "      <td>5080</td>\n",
       "      <td>More than 1</td>\n",
       "      <td>A</td>\n",
       "      <td>Platinum</td>\n",
       "      <td>515400</td>\n",
       "    </tr>\n",
       "    <tr>\n",
       "      <th>2</th>\n",
       "      <td>3</td>\n",
       "      <td>Male</td>\n",
       "      <td>Urban</td>\n",
       "      <td>Bachelor</td>\n",
       "      <td>5L-10L</td>\n",
       "      <td>1</td>\n",
       "      <td>8</td>\n",
       "      <td>2599</td>\n",
       "      <td>More than 1</td>\n",
       "      <td>A</td>\n",
       "      <td>Platinum</td>\n",
       "      <td>64212</td>\n",
       "    </tr>\n",
       "    <tr>\n",
       "      <th>3</th>\n",
       "      <td>4</td>\n",
       "      <td>Female</td>\n",
       "      <td>Rural</td>\n",
       "      <td>High School</td>\n",
       "      <td>5L-10L</td>\n",
       "      <td>0</td>\n",
       "      <td>7</td>\n",
       "      <td>0</td>\n",
       "      <td>More than 1</td>\n",
       "      <td>A</td>\n",
       "      <td>Platinum</td>\n",
       "      <td>97920</td>\n",
       "    </tr>\n",
       "    <tr>\n",
       "      <th>4</th>\n",
       "      <td>5</td>\n",
       "      <td>Male</td>\n",
       "      <td>Urban</td>\n",
       "      <td>High School</td>\n",
       "      <td>More than 10L</td>\n",
       "      <td>1</td>\n",
       "      <td>6</td>\n",
       "      <td>3508</td>\n",
       "      <td>More than 1</td>\n",
       "      <td>A</td>\n",
       "      <td>Gold</td>\n",
       "      <td>59736</td>\n",
       "    </tr>\n",
       "  </tbody>\n",
       "</table>\n",
       "</div>"
      ],
      "text/plain": [
       "   id  gender   area qualification         income  marital_status  vintage  \\\n",
       "0   1    Male  Urban      Bachelor         5L-10L               1        5   \n",
       "1   2    Male  Rural   High School         5L-10L               0        8   \n",
       "2   3    Male  Urban      Bachelor         5L-10L               1        8   \n",
       "3   4  Female  Rural   High School         5L-10L               0        7   \n",
       "4   5    Male  Urban   High School  More than 10L               1        6   \n",
       "\n",
       "   claim_amount num_policies policy type_of_policy    cltv  \n",
       "0          5790  More than 1      A       Platinum   64308  \n",
       "1          5080  More than 1      A       Platinum  515400  \n",
       "2          2599  More than 1      A       Platinum   64212  \n",
       "3             0  More than 1      A       Platinum   97920  \n",
       "4          3508  More than 1      A           Gold   59736  "
      ]
     },
     "execution_count": 147,
     "metadata": {},
     "output_type": "execute_result"
    }
   ],
   "source": [
    "cltv.head()"
   ]
  },
  {
   "cell_type": "code",
   "execution_count": 148,
   "id": "3e91bf3c",
   "metadata": {},
   "outputs": [
    {
     "data": {
      "text/html": [
       "<div>\n",
       "<style scoped>\n",
       "    .dataframe tbody tr th:only-of-type {\n",
       "        vertical-align: middle;\n",
       "    }\n",
       "\n",
       "    .dataframe tbody tr th {\n",
       "        vertical-align: top;\n",
       "    }\n",
       "\n",
       "    .dataframe thead th {\n",
       "        text-align: right;\n",
       "    }\n",
       "</style>\n",
       "<table border=\"1\" class=\"dataframe\">\n",
       "  <thead>\n",
       "    <tr style=\"text-align: right;\">\n",
       "      <th></th>\n",
       "      <th>id</th>\n",
       "      <th>gender</th>\n",
       "      <th>area</th>\n",
       "      <th>qualification</th>\n",
       "      <th>income</th>\n",
       "      <th>marital_status</th>\n",
       "      <th>vintage</th>\n",
       "      <th>claim_amount</th>\n",
       "      <th>num_policies</th>\n",
       "      <th>policy</th>\n",
       "      <th>type_of_policy</th>\n",
       "      <th>cltv</th>\n",
       "    </tr>\n",
       "  </thead>\n",
       "  <tbody>\n",
       "    <tr>\n",
       "      <th>89387</th>\n",
       "      <td>89388</td>\n",
       "      <td>Male</td>\n",
       "      <td>Rural</td>\n",
       "      <td>High School</td>\n",
       "      <td>More than 10L</td>\n",
       "      <td>0</td>\n",
       "      <td>6</td>\n",
       "      <td>0</td>\n",
       "      <td>More than 1</td>\n",
       "      <td>B</td>\n",
       "      <td>Platinum</td>\n",
       "      <td>95736</td>\n",
       "    </tr>\n",
       "    <tr>\n",
       "      <th>89388</th>\n",
       "      <td>89389</td>\n",
       "      <td>Male</td>\n",
       "      <td>Urban</td>\n",
       "      <td>Bachelor</td>\n",
       "      <td>5L-10L</td>\n",
       "      <td>1</td>\n",
       "      <td>0</td>\n",
       "      <td>3897</td>\n",
       "      <td>More than 1</td>\n",
       "      <td>A</td>\n",
       "      <td>Platinum</td>\n",
       "      <td>67596</td>\n",
       "    </tr>\n",
       "    <tr>\n",
       "      <th>89389</th>\n",
       "      <td>89390</td>\n",
       "      <td>Female</td>\n",
       "      <td>Urban</td>\n",
       "      <td>Bachelor</td>\n",
       "      <td>5L-10L</td>\n",
       "      <td>0</td>\n",
       "      <td>4</td>\n",
       "      <td>3363</td>\n",
       "      <td>More than 1</td>\n",
       "      <td>B</td>\n",
       "      <td>Platinum</td>\n",
       "      <td>114120</td>\n",
       "    </tr>\n",
       "    <tr>\n",
       "      <th>89390</th>\n",
       "      <td>89391</td>\n",
       "      <td>Female</td>\n",
       "      <td>Rural</td>\n",
       "      <td>High School</td>\n",
       "      <td>2L-5L</td>\n",
       "      <td>0</td>\n",
       "      <td>8</td>\n",
       "      <td>0</td>\n",
       "      <td>More than 1</td>\n",
       "      <td>B</td>\n",
       "      <td>Platinum</td>\n",
       "      <td>71772</td>\n",
       "    </tr>\n",
       "    <tr>\n",
       "      <th>89391</th>\n",
       "      <td>89392</td>\n",
       "      <td>Female</td>\n",
       "      <td>Rural</td>\n",
       "      <td>High School</td>\n",
       "      <td>5L-10L</td>\n",
       "      <td>0</td>\n",
       "      <td>6</td>\n",
       "      <td>0</td>\n",
       "      <td>More than 1</td>\n",
       "      <td>B</td>\n",
       "      <td>Gold</td>\n",
       "      <td>108144</td>\n",
       "    </tr>\n",
       "  </tbody>\n",
       "</table>\n",
       "</div>"
      ],
      "text/plain": [
       "          id  gender   area qualification         income  marital_status  \\\n",
       "89387  89388    Male  Rural   High School  More than 10L               0   \n",
       "89388  89389    Male  Urban      Bachelor         5L-10L               1   \n",
       "89389  89390  Female  Urban      Bachelor         5L-10L               0   \n",
       "89390  89391  Female  Rural   High School          2L-5L               0   \n",
       "89391  89392  Female  Rural   High School         5L-10L               0   \n",
       "\n",
       "       vintage  claim_amount num_policies policy type_of_policy    cltv  \n",
       "89387        6             0  More than 1      B       Platinum   95736  \n",
       "89388        0          3897  More than 1      A       Platinum   67596  \n",
       "89389        4          3363  More than 1      B       Platinum  114120  \n",
       "89390        8             0  More than 1      B       Platinum   71772  \n",
       "89391        6             0  More than 1      B           Gold  108144  "
      ]
     },
     "execution_count": 148,
     "metadata": {},
     "output_type": "execute_result"
    }
   ],
   "source": [
    "cltv.tail()"
   ]
  },
  {
   "cell_type": "code",
   "execution_count": 149,
   "id": "4a4f2fd3",
   "metadata": {},
   "outputs": [
    {
     "data": {
      "text/plain": [
       "(89392, 12)"
      ]
     },
     "execution_count": 149,
     "metadata": {},
     "output_type": "execute_result"
    }
   ],
   "source": [
    "cltv.shape"
   ]
  },
  {
   "cell_type": "code",
   "execution_count": 150,
   "id": "882b213f",
   "metadata": {},
   "outputs": [
    {
     "data": {
      "text/html": [
       "<div>\n",
       "<style scoped>\n",
       "    .dataframe tbody tr th:only-of-type {\n",
       "        vertical-align: middle;\n",
       "    }\n",
       "\n",
       "    .dataframe tbody tr th {\n",
       "        vertical-align: top;\n",
       "    }\n",
       "\n",
       "    .dataframe thead th {\n",
       "        text-align: right;\n",
       "    }\n",
       "</style>\n",
       "<table border=\"1\" class=\"dataframe\">\n",
       "  <thead>\n",
       "    <tr style=\"text-align: right;\">\n",
       "      <th></th>\n",
       "      <th>id</th>\n",
       "      <th>marital_status</th>\n",
       "      <th>vintage</th>\n",
       "      <th>claim_amount</th>\n",
       "      <th>cltv</th>\n",
       "    </tr>\n",
       "  </thead>\n",
       "  <tbody>\n",
       "    <tr>\n",
       "      <th>count</th>\n",
       "      <td>89392.000000</td>\n",
       "      <td>89392.000000</td>\n",
       "      <td>89392.000000</td>\n",
       "      <td>89392.000000</td>\n",
       "      <td>89392.000000</td>\n",
       "    </tr>\n",
       "    <tr>\n",
       "      <th>mean</th>\n",
       "      <td>44696.500000</td>\n",
       "      <td>0.575488</td>\n",
       "      <td>4.595669</td>\n",
       "      <td>4351.502416</td>\n",
       "      <td>97952.828978</td>\n",
       "    </tr>\n",
       "    <tr>\n",
       "      <th>std</th>\n",
       "      <td>25805.391969</td>\n",
       "      <td>0.494272</td>\n",
       "      <td>2.290446</td>\n",
       "      <td>3262.359775</td>\n",
       "      <td>90613.814793</td>\n",
       "    </tr>\n",
       "    <tr>\n",
       "      <th>min</th>\n",
       "      <td>1.000000</td>\n",
       "      <td>0.000000</td>\n",
       "      <td>0.000000</td>\n",
       "      <td>0.000000</td>\n",
       "      <td>24828.000000</td>\n",
       "    </tr>\n",
       "    <tr>\n",
       "      <th>25%</th>\n",
       "      <td>22348.750000</td>\n",
       "      <td>0.000000</td>\n",
       "      <td>3.000000</td>\n",
       "      <td>2406.000000</td>\n",
       "      <td>52836.000000</td>\n",
       "    </tr>\n",
       "    <tr>\n",
       "      <th>50%</th>\n",
       "      <td>44696.500000</td>\n",
       "      <td>1.000000</td>\n",
       "      <td>5.000000</td>\n",
       "      <td>4089.000000</td>\n",
       "      <td>66396.000000</td>\n",
       "    </tr>\n",
       "    <tr>\n",
       "      <th>75%</th>\n",
       "      <td>67044.250000</td>\n",
       "      <td>1.000000</td>\n",
       "      <td>6.000000</td>\n",
       "      <td>6094.000000</td>\n",
       "      <td>103440.000000</td>\n",
       "    </tr>\n",
       "    <tr>\n",
       "      <th>max</th>\n",
       "      <td>89392.000000</td>\n",
       "      <td>1.000000</td>\n",
       "      <td>8.000000</td>\n",
       "      <td>31894.000000</td>\n",
       "      <td>724068.000000</td>\n",
       "    </tr>\n",
       "  </tbody>\n",
       "</table>\n",
       "</div>"
      ],
      "text/plain": [
       "                 id  marital_status       vintage  claim_amount           cltv\n",
       "count  89392.000000    89392.000000  89392.000000  89392.000000   89392.000000\n",
       "mean   44696.500000        0.575488      4.595669   4351.502416   97952.828978\n",
       "std    25805.391969        0.494272      2.290446   3262.359775   90613.814793\n",
       "min        1.000000        0.000000      0.000000      0.000000   24828.000000\n",
       "25%    22348.750000        0.000000      3.000000   2406.000000   52836.000000\n",
       "50%    44696.500000        1.000000      5.000000   4089.000000   66396.000000\n",
       "75%    67044.250000        1.000000      6.000000   6094.000000  103440.000000\n",
       "max    89392.000000        1.000000      8.000000  31894.000000  724068.000000"
      ]
     },
     "execution_count": 150,
     "metadata": {},
     "output_type": "execute_result"
    }
   ],
   "source": [
    "cltv.describe()"
   ]
  },
  {
   "cell_type": "code",
   "execution_count": 151,
   "id": "6e359d34",
   "metadata": {},
   "outputs": [
    {
     "data": {
      "text/plain": [
       "Index(['id', 'gender', 'area', 'qualification', 'income', 'marital_status',\n",
       "       'vintage', 'claim_amount', 'num_policies', 'policy', 'type_of_policy',\n",
       "       'cltv'],\n",
       "      dtype='object')"
      ]
     },
     "execution_count": 151,
     "metadata": {},
     "output_type": "execute_result"
    }
   ],
   "source": [
    "cltv.columns"
   ]
  },
  {
   "cell_type": "code",
   "execution_count": 152,
   "id": "739bfec6",
   "metadata": {},
   "outputs": [
    {
     "data": {
      "text/plain": [
       "(0, 8)"
      ]
     },
     "execution_count": 152,
     "metadata": {},
     "output_type": "execute_result"
    }
   ],
   "source": [
    "cltv['vintage'].min(),cltv['vintage'].max()"
   ]
  },
  {
   "cell_type": "markdown",
   "id": "913b22d9",
   "metadata": {},
   "source": [
    "We can coclude that the oldest costomer of company is in relation for 8 years."
   ]
  },
  {
   "cell_type": "markdown",
   "id": "d9d2af5c",
   "metadata": {},
   "source": [
    "# EDA"
   ]
  },
  {
   "cell_type": "markdown",
   "id": "f1d930dd",
   "metadata": {},
   "source": [
    "# Variable Identification"
   ]
  },
  {
   "cell_type": "code",
   "execution_count": 153,
   "id": "191b2d54",
   "metadata": {},
   "outputs": [
    {
     "data": {
      "text/html": [
       "<div>\n",
       "<style scoped>\n",
       "    .dataframe tbody tr th:only-of-type {\n",
       "        vertical-align: middle;\n",
       "    }\n",
       "\n",
       "    .dataframe tbody tr th {\n",
       "        vertical-align: top;\n",
       "    }\n",
       "\n",
       "    .dataframe thead th {\n",
       "        text-align: right;\n",
       "    }\n",
       "</style>\n",
       "<table border=\"1\" class=\"dataframe\">\n",
       "  <thead>\n",
       "    <tr style=\"text-align: right;\">\n",
       "      <th></th>\n",
       "      <th>id</th>\n",
       "      <th>gender</th>\n",
       "      <th>area</th>\n",
       "      <th>qualification</th>\n",
       "      <th>income</th>\n",
       "      <th>marital_status</th>\n",
       "      <th>vintage</th>\n",
       "      <th>claim_amount</th>\n",
       "      <th>num_policies</th>\n",
       "      <th>policy</th>\n",
       "      <th>type_of_policy</th>\n",
       "      <th>cltv</th>\n",
       "    </tr>\n",
       "  </thead>\n",
       "  <tbody>\n",
       "    <tr>\n",
       "      <th>0</th>\n",
       "      <td>1</td>\n",
       "      <td>Male</td>\n",
       "      <td>Urban</td>\n",
       "      <td>Bachelor</td>\n",
       "      <td>5L-10L</td>\n",
       "      <td>1</td>\n",
       "      <td>5</td>\n",
       "      <td>5790</td>\n",
       "      <td>More than 1</td>\n",
       "      <td>A</td>\n",
       "      <td>Platinum</td>\n",
       "      <td>64308</td>\n",
       "    </tr>\n",
       "    <tr>\n",
       "      <th>1</th>\n",
       "      <td>2</td>\n",
       "      <td>Male</td>\n",
       "      <td>Rural</td>\n",
       "      <td>High School</td>\n",
       "      <td>5L-10L</td>\n",
       "      <td>0</td>\n",
       "      <td>8</td>\n",
       "      <td>5080</td>\n",
       "      <td>More than 1</td>\n",
       "      <td>A</td>\n",
       "      <td>Platinum</td>\n",
       "      <td>515400</td>\n",
       "    </tr>\n",
       "    <tr>\n",
       "      <th>2</th>\n",
       "      <td>3</td>\n",
       "      <td>Male</td>\n",
       "      <td>Urban</td>\n",
       "      <td>Bachelor</td>\n",
       "      <td>5L-10L</td>\n",
       "      <td>1</td>\n",
       "      <td>8</td>\n",
       "      <td>2599</td>\n",
       "      <td>More than 1</td>\n",
       "      <td>A</td>\n",
       "      <td>Platinum</td>\n",
       "      <td>64212</td>\n",
       "    </tr>\n",
       "    <tr>\n",
       "      <th>3</th>\n",
       "      <td>4</td>\n",
       "      <td>Female</td>\n",
       "      <td>Rural</td>\n",
       "      <td>High School</td>\n",
       "      <td>5L-10L</td>\n",
       "      <td>0</td>\n",
       "      <td>7</td>\n",
       "      <td>0</td>\n",
       "      <td>More than 1</td>\n",
       "      <td>A</td>\n",
       "      <td>Platinum</td>\n",
       "      <td>97920</td>\n",
       "    </tr>\n",
       "    <tr>\n",
       "      <th>4</th>\n",
       "      <td>5</td>\n",
       "      <td>Male</td>\n",
       "      <td>Urban</td>\n",
       "      <td>High School</td>\n",
       "      <td>More than 10L</td>\n",
       "      <td>1</td>\n",
       "      <td>6</td>\n",
       "      <td>3508</td>\n",
       "      <td>More than 1</td>\n",
       "      <td>A</td>\n",
       "      <td>Gold</td>\n",
       "      <td>59736</td>\n",
       "    </tr>\n",
       "  </tbody>\n",
       "</table>\n",
       "</div>"
      ],
      "text/plain": [
       "   id  gender   area qualification         income  marital_status  vintage  \\\n",
       "0   1    Male  Urban      Bachelor         5L-10L               1        5   \n",
       "1   2    Male  Rural   High School         5L-10L               0        8   \n",
       "2   3    Male  Urban      Bachelor         5L-10L               1        8   \n",
       "3   4  Female  Rural   High School         5L-10L               0        7   \n",
       "4   5    Male  Urban   High School  More than 10L               1        6   \n",
       "\n",
       "   claim_amount num_policies policy type_of_policy    cltv  \n",
       "0          5790  More than 1      A       Platinum   64308  \n",
       "1          5080  More than 1      A       Platinum  515400  \n",
       "2          2599  More than 1      A       Platinum   64212  \n",
       "3             0  More than 1      A       Platinum   97920  \n",
       "4          3508  More than 1      A           Gold   59736  "
      ]
     },
     "execution_count": 153,
     "metadata": {},
     "output_type": "execute_result"
    }
   ],
   "source": [
    "cltv.head()"
   ]
  },
  {
   "cell_type": "code",
   "execution_count": 154,
   "id": "61f3b26f",
   "metadata": {},
   "outputs": [
    {
     "data": {
      "text/plain": [
       "id                 int64\n",
       "gender            object\n",
       "area              object\n",
       "qualification     object\n",
       "income            object\n",
       "marital_status     int64\n",
       "vintage            int64\n",
       "claim_amount       int64\n",
       "num_policies      object\n",
       "policy            object\n",
       "type_of_policy    object\n",
       "cltv               int64\n",
       "dtype: object"
      ]
     },
     "execution_count": 154,
     "metadata": {},
     "output_type": "execute_result"
    }
   ],
   "source": [
    "cltv.dtypes"
   ]
  },
  {
   "cell_type": "markdown",
   "id": "97b8dcb8",
   "metadata": {},
   "source": [
    "From above we can need to typecast some varibles as object form into categorical\n",
    "like gender, area, marital_status, num_policies, policy, type_of_policy."
   ]
  },
  {
   "cell_type": "markdown",
   "id": "507b2103",
   "metadata": {},
   "source": [
    "# Univariate Analysis"
   ]
  },
  {
   "cell_type": "code",
   "execution_count": 155,
   "id": "630a0327",
   "metadata": {},
   "outputs": [],
   "source": [
    "cltv['id']=cltv['id'].astype('object')\n",
    "cltv['gender']=cltv['gender'].astype('category')\n",
    "cltv['area']=cltv['area'].astype('category')\n",
    "cltv['marital_status']=cltv['marital_status'].astype('category')\n",
    "cltv['num_policies']=cltv['num_policies'].astype('category')\n",
    "cltv['policy']=cltv['policy'].astype('category')\n",
    "cltv['type_of_policy']=cltv['type_of_policy'].astype('category')\n",
    "cltv['qualification']=cltv['qualification'].astype('category')"
   ]
  },
  {
   "cell_type": "code",
   "execution_count": 156,
   "id": "68c618c1",
   "metadata": {},
   "outputs": [
    {
     "data": {
      "text/html": [
       "<div>\n",
       "<style scoped>\n",
       "    .dataframe tbody tr th:only-of-type {\n",
       "        vertical-align: middle;\n",
       "    }\n",
       "\n",
       "    .dataframe tbody tr th {\n",
       "        vertical-align: top;\n",
       "    }\n",
       "\n",
       "    .dataframe thead th {\n",
       "        text-align: right;\n",
       "    }\n",
       "</style>\n",
       "<table border=\"1\" class=\"dataframe\">\n",
       "  <thead>\n",
       "    <tr style=\"text-align: right;\">\n",
       "      <th></th>\n",
       "      <th>id</th>\n",
       "      <th>gender</th>\n",
       "      <th>area</th>\n",
       "      <th>qualification</th>\n",
       "      <th>income</th>\n",
       "      <th>marital_status</th>\n",
       "      <th>vintage</th>\n",
       "      <th>claim_amount</th>\n",
       "      <th>num_policies</th>\n",
       "      <th>policy</th>\n",
       "      <th>type_of_policy</th>\n",
       "      <th>cltv</th>\n",
       "    </tr>\n",
       "  </thead>\n",
       "  <tbody>\n",
       "    <tr>\n",
       "      <th>0</th>\n",
       "      <td>1</td>\n",
       "      <td>Male</td>\n",
       "      <td>Urban</td>\n",
       "      <td>Bachelor</td>\n",
       "      <td>5L-10L</td>\n",
       "      <td>1</td>\n",
       "      <td>5</td>\n",
       "      <td>5790</td>\n",
       "      <td>More than 1</td>\n",
       "      <td>A</td>\n",
       "      <td>Platinum</td>\n",
       "      <td>64308</td>\n",
       "    </tr>\n",
       "    <tr>\n",
       "      <th>1</th>\n",
       "      <td>2</td>\n",
       "      <td>Male</td>\n",
       "      <td>Rural</td>\n",
       "      <td>High School</td>\n",
       "      <td>5L-10L</td>\n",
       "      <td>0</td>\n",
       "      <td>8</td>\n",
       "      <td>5080</td>\n",
       "      <td>More than 1</td>\n",
       "      <td>A</td>\n",
       "      <td>Platinum</td>\n",
       "      <td>515400</td>\n",
       "    </tr>\n",
       "    <tr>\n",
       "      <th>2</th>\n",
       "      <td>3</td>\n",
       "      <td>Male</td>\n",
       "      <td>Urban</td>\n",
       "      <td>Bachelor</td>\n",
       "      <td>5L-10L</td>\n",
       "      <td>1</td>\n",
       "      <td>8</td>\n",
       "      <td>2599</td>\n",
       "      <td>More than 1</td>\n",
       "      <td>A</td>\n",
       "      <td>Platinum</td>\n",
       "      <td>64212</td>\n",
       "    </tr>\n",
       "    <tr>\n",
       "      <th>3</th>\n",
       "      <td>4</td>\n",
       "      <td>Female</td>\n",
       "      <td>Rural</td>\n",
       "      <td>High School</td>\n",
       "      <td>5L-10L</td>\n",
       "      <td>0</td>\n",
       "      <td>7</td>\n",
       "      <td>0</td>\n",
       "      <td>More than 1</td>\n",
       "      <td>A</td>\n",
       "      <td>Platinum</td>\n",
       "      <td>97920</td>\n",
       "    </tr>\n",
       "    <tr>\n",
       "      <th>4</th>\n",
       "      <td>5</td>\n",
       "      <td>Male</td>\n",
       "      <td>Urban</td>\n",
       "      <td>High School</td>\n",
       "      <td>More than 10L</td>\n",
       "      <td>1</td>\n",
       "      <td>6</td>\n",
       "      <td>3508</td>\n",
       "      <td>More than 1</td>\n",
       "      <td>A</td>\n",
       "      <td>Gold</td>\n",
       "      <td>59736</td>\n",
       "    </tr>\n",
       "  </tbody>\n",
       "</table>\n",
       "</div>"
      ],
      "text/plain": [
       "  id  gender   area qualification         income marital_status  vintage  \\\n",
       "0  1    Male  Urban      Bachelor         5L-10L              1        5   \n",
       "1  2    Male  Rural   High School         5L-10L              0        8   \n",
       "2  3    Male  Urban      Bachelor         5L-10L              1        8   \n",
       "3  4  Female  Rural   High School         5L-10L              0        7   \n",
       "4  5    Male  Urban   High School  More than 10L              1        6   \n",
       "\n",
       "   claim_amount num_policies policy type_of_policy    cltv  \n",
       "0          5790  More than 1      A       Platinum   64308  \n",
       "1          5080  More than 1      A       Platinum  515400  \n",
       "2          2599  More than 1      A       Platinum   64212  \n",
       "3             0  More than 1      A       Platinum   97920  \n",
       "4          3508  More than 1      A           Gold   59736  "
      ]
     },
     "execution_count": 156,
     "metadata": {},
     "output_type": "execute_result"
    }
   ],
   "source": [
    "cltv.head()"
   ]
  },
  {
   "cell_type": "code",
   "execution_count": 157,
   "id": "a2b5522e",
   "metadata": {},
   "outputs": [
    {
     "data": {
      "text/html": [
       "<div>\n",
       "<style scoped>\n",
       "    .dataframe tbody tr th:only-of-type {\n",
       "        vertical-align: middle;\n",
       "    }\n",
       "\n",
       "    .dataframe tbody tr th {\n",
       "        vertical-align: top;\n",
       "    }\n",
       "\n",
       "    .dataframe thead th {\n",
       "        text-align: right;\n",
       "    }\n",
       "</style>\n",
       "<table border=\"1\" class=\"dataframe\">\n",
       "  <thead>\n",
       "    <tr style=\"text-align: right;\">\n",
       "      <th></th>\n",
       "      <th>id</th>\n",
       "      <th>gender</th>\n",
       "      <th>area</th>\n",
       "      <th>qualification</th>\n",
       "      <th>income</th>\n",
       "      <th>marital_status</th>\n",
       "      <th>vintage</th>\n",
       "      <th>claim_amount</th>\n",
       "      <th>num_policies</th>\n",
       "      <th>policy</th>\n",
       "      <th>type_of_policy</th>\n",
       "      <th>cltv</th>\n",
       "    </tr>\n",
       "  </thead>\n",
       "  <tbody>\n",
       "    <tr>\n",
       "      <th>89387</th>\n",
       "      <td>89388</td>\n",
       "      <td>Male</td>\n",
       "      <td>Rural</td>\n",
       "      <td>High School</td>\n",
       "      <td>More than 10L</td>\n",
       "      <td>0</td>\n",
       "      <td>6</td>\n",
       "      <td>0</td>\n",
       "      <td>More than 1</td>\n",
       "      <td>B</td>\n",
       "      <td>Platinum</td>\n",
       "      <td>95736</td>\n",
       "    </tr>\n",
       "    <tr>\n",
       "      <th>89388</th>\n",
       "      <td>89389</td>\n",
       "      <td>Male</td>\n",
       "      <td>Urban</td>\n",
       "      <td>Bachelor</td>\n",
       "      <td>5L-10L</td>\n",
       "      <td>1</td>\n",
       "      <td>0</td>\n",
       "      <td>3897</td>\n",
       "      <td>More than 1</td>\n",
       "      <td>A</td>\n",
       "      <td>Platinum</td>\n",
       "      <td>67596</td>\n",
       "    </tr>\n",
       "    <tr>\n",
       "      <th>89389</th>\n",
       "      <td>89390</td>\n",
       "      <td>Female</td>\n",
       "      <td>Urban</td>\n",
       "      <td>Bachelor</td>\n",
       "      <td>5L-10L</td>\n",
       "      <td>0</td>\n",
       "      <td>4</td>\n",
       "      <td>3363</td>\n",
       "      <td>More than 1</td>\n",
       "      <td>B</td>\n",
       "      <td>Platinum</td>\n",
       "      <td>114120</td>\n",
       "    </tr>\n",
       "    <tr>\n",
       "      <th>89390</th>\n",
       "      <td>89391</td>\n",
       "      <td>Female</td>\n",
       "      <td>Rural</td>\n",
       "      <td>High School</td>\n",
       "      <td>2L-5L</td>\n",
       "      <td>0</td>\n",
       "      <td>8</td>\n",
       "      <td>0</td>\n",
       "      <td>More than 1</td>\n",
       "      <td>B</td>\n",
       "      <td>Platinum</td>\n",
       "      <td>71772</td>\n",
       "    </tr>\n",
       "    <tr>\n",
       "      <th>89391</th>\n",
       "      <td>89392</td>\n",
       "      <td>Female</td>\n",
       "      <td>Rural</td>\n",
       "      <td>High School</td>\n",
       "      <td>5L-10L</td>\n",
       "      <td>0</td>\n",
       "      <td>6</td>\n",
       "      <td>0</td>\n",
       "      <td>More than 1</td>\n",
       "      <td>B</td>\n",
       "      <td>Gold</td>\n",
       "      <td>108144</td>\n",
       "    </tr>\n",
       "  </tbody>\n",
       "</table>\n",
       "</div>"
      ],
      "text/plain": [
       "          id  gender   area qualification         income marital_status  \\\n",
       "89387  89388    Male  Rural   High School  More than 10L              0   \n",
       "89388  89389    Male  Urban      Bachelor         5L-10L              1   \n",
       "89389  89390  Female  Urban      Bachelor         5L-10L              0   \n",
       "89390  89391  Female  Rural   High School          2L-5L              0   \n",
       "89391  89392  Female  Rural   High School         5L-10L              0   \n",
       "\n",
       "       vintage  claim_amount num_policies policy type_of_policy    cltv  \n",
       "89387        6             0  More than 1      B       Platinum   95736  \n",
       "89388        0          3897  More than 1      A       Platinum   67596  \n",
       "89389        4          3363  More than 1      B       Platinum  114120  \n",
       "89390        8             0  More than 1      B       Platinum   71772  \n",
       "89391        6             0  More than 1      B           Gold  108144  "
      ]
     },
     "execution_count": 157,
     "metadata": {},
     "output_type": "execute_result"
    }
   ],
   "source": [
    "cltv.tail()"
   ]
  },
  {
   "cell_type": "code",
   "execution_count": 158,
   "id": "e5e48e1c",
   "metadata": {},
   "outputs": [
    {
     "name": "stdout",
     "output_type": "stream",
     "text": [
      "<class 'pandas.core.frame.DataFrame'>\n",
      "RangeIndex: 89392 entries, 0 to 89391\n",
      "Data columns (total 12 columns):\n",
      " #   Column          Non-Null Count  Dtype   \n",
      "---  ------          --------------  -----   \n",
      " 0   id              89392 non-null  object  \n",
      " 1   gender          89392 non-null  category\n",
      " 2   area            89392 non-null  category\n",
      " 3   qualification   89392 non-null  category\n",
      " 4   income          89392 non-null  object  \n",
      " 5   marital_status  89392 non-null  category\n",
      " 6   vintage         89392 non-null  int64   \n",
      " 7   claim_amount    89392 non-null  int64   \n",
      " 8   num_policies    89392 non-null  category\n",
      " 9   policy          89392 non-null  category\n",
      " 10  type_of_policy  89392 non-null  category\n",
      " 11  cltv            89392 non-null  int64   \n",
      "dtypes: category(7), int64(3), object(2)\n",
      "memory usage: 4.0+ MB\n"
     ]
    }
   ],
   "source": [
    "cltv.info()"
   ]
  },
  {
   "cell_type": "code",
   "execution_count": 159,
   "id": "6970b49e",
   "metadata": {},
   "outputs": [
    {
     "data": {
      "text/plain": [
       "id                  object\n",
       "gender            category\n",
       "area              category\n",
       "qualification     category\n",
       "income              object\n",
       "marital_status    category\n",
       "vintage              int64\n",
       "claim_amount         int64\n",
       "num_policies      category\n",
       "policy            category\n",
       "type_of_policy    category\n",
       "cltv                 int64\n",
       "dtype: object"
      ]
     },
     "execution_count": 159,
     "metadata": {},
     "output_type": "execute_result"
    }
   ],
   "source": [
    "cltv.dtypes"
   ]
  },
  {
   "cell_type": "code",
   "execution_count": 16,
   "id": "5054e0c9",
   "metadata": {},
   "outputs": [
    {
     "data": {
      "image/png": "[encoded data removed]",
      "text/plain": [
       "<Figure size 640x480 with 1 Axes>"
      ]
     },
     "metadata": {},
     "output_type": "display_data"
    }
   ],
   "source": [
    "# Calculate the counts of each gender\n",
    "gender_counts = cltv['gender'].value_counts()\n",
    "\n",
    "# Create a pie chart\n",
    "plt.pie(gender_counts, labels=gender_counts.index, autopct='%1.1f%%')\n",
    "\n",
    "# Add title and legend\n",
    "plt.title(\"Gender of customers\")\n",
    "plt.legend(title=\"Gender\", labels=['Female', 'Male'])\n",
    "\n",
    "# Show the plot\n",
    "plt.show()"
   ]
  },
  {
   "cell_type": "markdown",
   "id": "bfb718d6",
   "metadata": {},
   "source": [
    "This shows that Male costomers are slightly more than i.e. 56.5%"
   ]
  },
  {
   "cell_type": "code",
   "execution_count": 90,
   "id": "21363e7b",
   "metadata": {},
   "outputs": [
    {
     "data": {
      "image/png": "[encoded data removed]",
      "text/plain": [
       "<Figure size 640x480 with 1 Axes>"
      ]
     },
     "metadata": {},
     "output_type": "display_data"
    }
   ],
   "source": [
    "# Calculate the counts of each area\n",
    "area_counts = cltv['area'].value_counts()\n",
    "\n",
    "# Create a pie chart\n",
    "plt.pie(area_counts, labels=area_counts.index, autopct='%1.1f%%')\n",
    "\n",
    "# Add title and legend\n",
    "plt.title(\"Area of customers\")\n",
    "plt.legend(title=\"Area\", labels=['Urban', 'Rural'])\n",
    "\n",
    "# Show the plot\n",
    "plt.show()"
   ]
  },
  {
   "cell_type": "markdown",
   "id": "ce730d1e",
   "metadata": {},
   "source": [
    "This shows that the company has got More costomers in Urban area i.e.69.9%"
   ]
  },
  {
   "cell_type": "code",
   "execution_count": 92,
   "id": "6320e6ac",
   "metadata": {},
   "outputs": [
    {
     "data": {
      "image/png": "[encoded data removed]",
      "text/plain": [
       "<Figure size 640x480 with 1 Axes>"
      ]
     },
     "metadata": {},
     "output_type": "display_data"
    }
   ],
   "source": [
    "# Calculate the counts of each marital status\n",
    "marital_status_counts = cltv['marital_status'].value_counts()\n",
    "\n",
    "# Create a pie chart\n",
    "plt.pie(marital_status_counts, labels=marital_status_counts.index, autopct='%1.1f%%')\n",
    "\n",
    "# Add title and legend\n",
    "plt.title(\"Marital status of customers\")\n",
    "plt.legend(title=\"Marital status\", labels=['Married', 'Unmarried'])\n",
    "\n",
    "# Show the plot\n",
    "plt.show()"
   ]
  },
  {
   "cell_type": "markdown",
   "id": "a472838b",
   "metadata": {},
   "source": [
    "This chart shows that the company has more number of married costomers i.e. 57.5%"
   ]
  },
  {
   "cell_type": "code",
   "execution_count": 94,
   "id": "880b3c22",
   "metadata": {},
   "outputs": [
    {
     "data": {
      "image/png": "[encoded data removed]",
      "text/plain": [
       "<Figure size 640x480 with 1 Axes>"
      ]
     },
     "metadata": {},
     "output_type": "display_data"
    }
   ],
   "source": [
    "# Calculate the counts of each num policies\n",
    "num_policies_counts = cltv['num_policies'].value_counts()\n",
    "\n",
    "# Create a pie chart\n",
    "plt.pie(num_policies_counts, labels=num_policies_counts.index, autopct='%1.1f%%')\n",
    "\n",
    "# Add title and legend\n",
    "plt.title(\"Number of policies\")\n",
    "plt.legend(title=\"num_policies\", labels=['1', 'More than 1'])\n",
    "\n",
    "# Show the plot\n",
    "plt.show()"
   ]
  },
  {
   "cell_type": "markdown",
   "id": "4149a9aa",
   "metadata": {},
   "source": [
    "This shows that the company has got More costomers with more than 1 policies i.e. 67.4%"
   ]
  },
  {
   "cell_type": "code",
   "execution_count": 93,
   "id": "84122887",
   "metadata": {},
   "outputs": [
    {
     "data": {
      "image/png": "[encoded data removed]",
      "text/plain": [
       "<Figure size 640x480 with 1 Axes>"
      ]
     },
     "metadata": {},
     "output_type": "display_data"
    }
   ],
   "source": [
    "# Calculate the counts of each policy\n",
    "policy_counts = cltv['policy'].value_counts()\n",
    "\n",
    "# Create a pie chart\n",
    "plt.pie(policy_counts, labels=policy_counts.index, autopct='%1.1f%%')\n",
    "\n",
    "# Add title and legend\n",
    "plt.title(\"policy\")\n",
    "plt.legend(title=\"policy\", labels=['A', 'B', 'C'])\n",
    "\n",
    "# Show the plot\n",
    "plt.show()"
   ]
  },
  {
   "cell_type": "markdown",
   "id": "968348a3",
   "metadata": {},
   "source": [
    "This shows that the company has got More costomers with A policy 63.4%, followed by B policy 27.6%, followed by C policy 9.1%"
   ]
  },
  {
   "cell_type": "code",
   "execution_count": 89,
   "id": "79f7adb2",
   "metadata": {},
   "outputs": [
    {
     "data": {
      "image/png": "[encoded data removed]",
      "text/plain": [
       "<Figure size 640x480 with 1 Axes>"
      ]
     },
     "metadata": {},
     "output_type": "display_data"
    }
   ],
   "source": [
    "# Calculate the counts of each type_of_policy\n",
    "type_of_policy_counts = cltv['type_of_policy'].value_counts()\n",
    "\n",
    "# Create a pie chart\n",
    "plt.pie(type_of_policy_counts, labels=type_of_policy_counts.index, autopct='%1.1f%%')\n",
    "\n",
    "# Add title and legend\n",
    "plt.title(\"Type of policy\")\n",
    "plt.legend(title=\"type_of_policy\", labels=['Platinum', 'Gold', 'Silver'])\n",
    "\n",
    "# Show the plot\n",
    "plt.show()"
   ]
  },
  {
   "cell_type": "markdown",
   "id": "33e55ac1",
   "metadata": {},
   "source": [
    "This shows that the company has got More costomers with Platinum policy 53.5%, followed by Silver  policy 23.5%, followed by Gold policy 23.0%"
   ]
  },
  {
   "cell_type": "markdown",
   "id": "ce916fd4",
   "metadata": {},
   "source": [
    "# Bivariate Analysis"
   ]
  },
  {
   "cell_type": "code",
   "execution_count": 23,
   "id": "ff013018",
   "metadata": {},
   "outputs": [
    {
     "data": {
      "text/plain": [
       "Index(['id', 'gender', 'area', 'qualification', 'income', 'marital_status',\n",
       "       'vintage', 'claim_amount', 'num_policies', 'policy', 'type_of_policy',\n",
       "       'cltv'],\n",
       "      dtype='object')"
      ]
     },
     "execution_count": 23,
     "metadata": {},
     "output_type": "execute_result"
    }
   ],
   "source": [
    "cltv.columns"
   ]
  },
  {
   "cell_type": "code",
   "execution_count": 26,
   "id": "f189f8bd",
   "metadata": {},
   "outputs": [
    {
     "data": {
      "text/plain": [
       "id                0\n",
       "gender            0\n",
       "area              0\n",
       "qualification     0\n",
       "income            0\n",
       "marital_status    0\n",
       "vintage           0\n",
       "claim_amount      0\n",
       "num_policies      0\n",
       "policy            0\n",
       "type_of_policy    0\n",
       "cltv              0\n",
       "dtype: int64"
      ]
     },
     "execution_count": 26,
     "metadata": {},
     "output_type": "execute_result"
    }
   ],
   "source": [
    "cltv.isnull().sum() "
   ]
  },
  {
   "cell_type": "markdown",
   "id": "b0e55e2d",
   "metadata": {},
   "source": [
    "There is No Null Value in data."
   ]
  },
  {
   "cell_type": "code",
   "execution_count": 27,
   "id": "3983e82a",
   "metadata": {},
   "outputs": [
    {
     "name": "stderr",
     "output_type": "stream",
     "text": [
      "C:\\Users\\Ap\\anaconda3\\lib\\site-packages\\seaborn\\_decorators.py:36: FutureWarning: Pass the following variable as a keyword arg: x. From version 0.12, the only valid positional argument will be `data`, and passing other arguments without an explicit keyword will result in an error or misinterpretation.\n",
      "  warnings.warn(\n"
     ]
    },
    {
     "data": {
      "image/png": "[encoded data removed]",
      "text/plain": [
       "<Figure size 640x480 with 1 Axes>"
      ]
     },
     "metadata": {},
     "output_type": "display_data"
    }
   ],
   "source": [
    "sns.boxplot(cltv['cltv'])\n",
    "plt.show()"
   ]
  },
  {
   "cell_type": "markdown",
   "id": "9e98b940",
   "metadata": {},
   "source": [
    "There are some Actual outliers in data"
   ]
  },
  {
   "cell_type": "markdown",
   "id": "ea93a61e",
   "metadata": {},
   "source": [
    "# Start Label encoding and find corelation between variables"
   ]
  },
  {
   "cell_type": "code",
   "execution_count": 30,
   "id": "2ab9163d",
   "metadata": {},
   "outputs": [],
   "source": [
    "cltv2=cltv.copy()"
   ]
  },
  {
   "cell_type": "code",
   "execution_count": 31,
   "id": "a018fefa",
   "metadata": {},
   "outputs": [],
   "source": [
    "from sklearn.preprocessing import LabelEncoder\n",
    "le=LabelEncoder()"
   ]
  },
  {
   "cell_type": "code",
   "execution_count": 32,
   "id": "4b100030",
   "metadata": {},
   "outputs": [],
   "source": [
    "cltv2['gender']=le.fit_transform(cltv2['gender'])"
   ]
  },
  {
   "cell_type": "code",
   "execution_count": 33,
   "id": "ac27874a",
   "metadata": {},
   "outputs": [
    {
     "data": {
      "text/plain": [
       "array(['Female', 'Male'], dtype=object)"
      ]
     },
     "execution_count": 33,
     "metadata": {},
     "output_type": "execute_result"
    }
   ],
   "source": [
    "le.classes_"
   ]
  },
  {
   "cell_type": "code",
   "execution_count": 34,
   "id": "9310f75c",
   "metadata": {},
   "outputs": [
    {
     "name": "stdout",
     "output_type": "stream",
     "text": [
      "{'Female': 0, 'Male': 1}\n"
     ]
    }
   ],
   "source": [
    "gender_labels = dict(zip(le.classes_, le.transform(le.classes_)))\n",
    "print(gender_labels)"
   ]
  },
  {
   "cell_type": "code",
   "execution_count": 35,
   "id": "623d402b",
   "metadata": {},
   "outputs": [],
   "source": [
    "cltv2['area']=le.fit_transform(cltv2['area'])"
   ]
  },
  {
   "cell_type": "code",
   "execution_count": 36,
   "id": "de1f52dd",
   "metadata": {},
   "outputs": [
    {
     "data": {
      "text/plain": [
       "array(['Rural', 'Urban'], dtype=object)"
      ]
     },
     "execution_count": 36,
     "metadata": {},
     "output_type": "execute_result"
    }
   ],
   "source": [
    "le.classes_"
   ]
  },
  {
   "cell_type": "code",
   "execution_count": 37,
   "id": "722ed5aa",
   "metadata": {},
   "outputs": [
    {
     "name": "stdout",
     "output_type": "stream",
     "text": [
      "{'Rural': 0, 'Urban': 1}\n"
     ]
    }
   ],
   "source": [
    "area_labels = dict(zip(le.classes_, le.transform(le.classes_)))\n",
    "print(area_labels)"
   ]
  },
  {
   "cell_type": "code",
   "execution_count": 38,
   "id": "3798b2fe",
   "metadata": {},
   "outputs": [],
   "source": [
    "cltv2['income']=le.fit_transform(cltv2['income'])"
   ]
  },
  {
   "cell_type": "code",
   "execution_count": 39,
   "id": "4629a44a",
   "metadata": {},
   "outputs": [
    {
     "data": {
      "text/plain": [
       "array(['2L-5L', '5L-10L', '<=2L', 'More than 10L'], dtype=object)"
      ]
     },
     "execution_count": 39,
     "metadata": {},
     "output_type": "execute_result"
    }
   ],
   "source": [
    "le.classes_"
   ]
  },
  {
   "cell_type": "code",
   "execution_count": 40,
   "id": "346b4d89",
   "metadata": {},
   "outputs": [
    {
     "name": "stdout",
     "output_type": "stream",
     "text": [
      "{'2L-5L': 0, '5L-10L': 1, '<=2L': 2, 'More than 10L': 3}\n"
     ]
    }
   ],
   "source": [
    "income_labels = dict(zip(le.classes_, le.transform(le.classes_)))\n",
    "print(income_labels)"
   ]
  },
  {
   "cell_type": "code",
   "execution_count": 41,
   "id": "6d908641",
   "metadata": {},
   "outputs": [],
   "source": [
    "cltv2['num_policies']=le.fit_transform(cltv2['num_policies'])"
   ]
  },
  {
   "cell_type": "code",
   "execution_count": 42,
   "id": "b86b98f7",
   "metadata": {},
   "outputs": [
    {
     "data": {
      "text/plain": [
       "array(['1', 'More than 1'], dtype=object)"
      ]
     },
     "execution_count": 42,
     "metadata": {},
     "output_type": "execute_result"
    }
   ],
   "source": [
    "le.classes_"
   ]
  },
  {
   "cell_type": "code",
   "execution_count": 43,
   "id": "d2954d35",
   "metadata": {},
   "outputs": [
    {
     "name": "stdout",
     "output_type": "stream",
     "text": [
      "{'1': 0, 'More than 1': 1}\n"
     ]
    }
   ],
   "source": [
    "num_policies_labels = dict(zip(le.classes_, le.transform(le.classes_)))\n",
    "print(num_policies_labels)"
   ]
  },
  {
   "cell_type": "code",
   "execution_count": 44,
   "id": "d106ffd4",
   "metadata": {},
   "outputs": [],
   "source": [
    "cltv2['type_of_policy']=le.fit_transform(cltv2['type_of_policy'])"
   ]
  },
  {
   "cell_type": "code",
   "execution_count": 45,
   "id": "a8043968",
   "metadata": {},
   "outputs": [
    {
     "data": {
      "text/plain": [
       "array(['Gold', 'Platinum', 'Silver'], dtype=object)"
      ]
     },
     "execution_count": 45,
     "metadata": {},
     "output_type": "execute_result"
    }
   ],
   "source": [
    "le.classes_"
   ]
  },
  {
   "cell_type": "code",
   "execution_count": 46,
   "id": "01c87af4",
   "metadata": {},
   "outputs": [
    {
     "name": "stdout",
     "output_type": "stream",
     "text": [
      "{'Gold': 0, 'Platinum': 1, 'Silver': 2}\n"
     ]
    }
   ],
   "source": [
    "types_of_policies_labels = dict(zip(le.classes_, le.transform(le.classes_)))\n",
    "print(types_of_policies_labels)"
   ]
  },
  {
   "cell_type": "code",
   "execution_count": 47,
   "id": "c449c5d0",
   "metadata": {},
   "outputs": [],
   "source": [
    "cltv2['qualification']=le.fit_transform(cltv2['qualification'])"
   ]
  },
  {
   "cell_type": "code",
   "execution_count": 48,
   "id": "8d9b7405",
   "metadata": {},
   "outputs": [
    {
     "data": {
      "text/plain": [
       "array(['Bachelor', 'High School', 'Others'], dtype=object)"
      ]
     },
     "execution_count": 48,
     "metadata": {},
     "output_type": "execute_result"
    }
   ],
   "source": [
    "le.classes_"
   ]
  },
  {
   "cell_type": "code",
   "execution_count": 49,
   "id": "6b698458",
   "metadata": {},
   "outputs": [
    {
     "name": "stdout",
     "output_type": "stream",
     "text": [
      "{'Bachelor': 0, 'High School': 1, 'Others': 2}\n"
     ]
    }
   ],
   "source": [
    "qualification_labels = dict(zip(le.classes_, le.transform(le.classes_)))\n",
    "print(qualification_labels)"
   ]
  },
  {
   "cell_type": "code",
   "execution_count": 50,
   "id": "22b9c4f6",
   "metadata": {},
   "outputs": [],
   "source": [
    "cltv2['marital_status']=le.fit_transform(cltv2['marital_status'])"
   ]
  },
  {
   "cell_type": "code",
   "execution_count": 51,
   "id": "a6ba79eb",
   "metadata": {},
   "outputs": [
    {
     "data": {
      "text/plain": [
       "array([0, 1], dtype=int64)"
      ]
     },
     "execution_count": 51,
     "metadata": {},
     "output_type": "execute_result"
    }
   ],
   "source": [
    "le.classes_"
   ]
  },
  {
   "cell_type": "code",
   "execution_count": 52,
   "id": "ce08863e",
   "metadata": {},
   "outputs": [
    {
     "name": "stdout",
     "output_type": "stream",
     "text": [
      "{0: 0, 1: 1}\n"
     ]
    }
   ],
   "source": [
    "marital_status_labels = dict(zip(le.classes_, le.transform(le.classes_)))\n",
    "print(marital_status_labels)"
   ]
  },
  {
   "cell_type": "code",
   "execution_count": 53,
   "id": "3c37175e",
   "metadata": {},
   "outputs": [],
   "source": [
    "cltv2['policy']=le.fit_transform(cltv2['policy'])"
   ]
  },
  {
   "cell_type": "code",
   "execution_count": 54,
   "id": "7b47b1d1",
   "metadata": {},
   "outputs": [
    {
     "data": {
      "text/plain": [
       "array(['A', 'B', 'C'], dtype=object)"
      ]
     },
     "execution_count": 54,
     "metadata": {},
     "output_type": "execute_result"
    }
   ],
   "source": [
    "le.classes_"
   ]
  },
  {
   "cell_type": "code",
   "execution_count": 55,
   "id": "bdfe5ba1",
   "metadata": {},
   "outputs": [
    {
     "name": "stdout",
     "output_type": "stream",
     "text": [
      "{'A': 0, 'B': 1, 'C': 2}\n"
     ]
    }
   ],
   "source": [
    "policy_labels = dict(zip(le.classes_, le.transform(le.classes_)))\n",
    "print(policy_labels)"
   ]
  },
  {
   "cell_type": "code",
   "execution_count": 56,
   "id": "1ef9af84",
   "metadata": {},
   "outputs": [
    {
     "data": {
      "text/html": [
       "<div>\n",
       "<style scoped>\n",
       "    .dataframe tbody tr th:only-of-type {\n",
       "        vertical-align: middle;\n",
       "    }\n",
       "\n",
       "    .dataframe tbody tr th {\n",
       "        vertical-align: top;\n",
       "    }\n",
       "\n",
       "    .dataframe thead th {\n",
       "        text-align: right;\n",
       "    }\n",
       "</style>\n",
       "<table border=\"1\" class=\"dataframe\">\n",
       "  <thead>\n",
       "    <tr style=\"text-align: right;\">\n",
       "      <th></th>\n",
       "      <th>id</th>\n",
       "      <th>gender</th>\n",
       "      <th>area</th>\n",
       "      <th>qualification</th>\n",
       "      <th>income</th>\n",
       "      <th>marital_status</th>\n",
       "      <th>vintage</th>\n",
       "      <th>claim_amount</th>\n",
       "      <th>num_policies</th>\n",
       "      <th>policy</th>\n",
       "      <th>type_of_policy</th>\n",
       "      <th>cltv</th>\n",
       "    </tr>\n",
       "  </thead>\n",
       "  <tbody>\n",
       "    <tr>\n",
       "      <th>0</th>\n",
       "      <td>1</td>\n",
       "      <td>1</td>\n",
       "      <td>1</td>\n",
       "      <td>0</td>\n",
       "      <td>1</td>\n",
       "      <td>1</td>\n",
       "      <td>5</td>\n",
       "      <td>5790</td>\n",
       "      <td>1</td>\n",
       "      <td>0</td>\n",
       "      <td>1</td>\n",
       "      <td>64308</td>\n",
       "    </tr>\n",
       "    <tr>\n",
       "      <th>1</th>\n",
       "      <td>2</td>\n",
       "      <td>1</td>\n",
       "      <td>0</td>\n",
       "      <td>1</td>\n",
       "      <td>1</td>\n",
       "      <td>0</td>\n",
       "      <td>8</td>\n",
       "      <td>5080</td>\n",
       "      <td>1</td>\n",
       "      <td>0</td>\n",
       "      <td>1</td>\n",
       "      <td>515400</td>\n",
       "    </tr>\n",
       "    <tr>\n",
       "      <th>2</th>\n",
       "      <td>3</td>\n",
       "      <td>1</td>\n",
       "      <td>1</td>\n",
       "      <td>0</td>\n",
       "      <td>1</td>\n",
       "      <td>1</td>\n",
       "      <td>8</td>\n",
       "      <td>2599</td>\n",
       "      <td>1</td>\n",
       "      <td>0</td>\n",
       "      <td>1</td>\n",
       "      <td>64212</td>\n",
       "    </tr>\n",
       "    <tr>\n",
       "      <th>3</th>\n",
       "      <td>4</td>\n",
       "      <td>0</td>\n",
       "      <td>0</td>\n",
       "      <td>1</td>\n",
       "      <td>1</td>\n",
       "      <td>0</td>\n",
       "      <td>7</td>\n",
       "      <td>0</td>\n",
       "      <td>1</td>\n",
       "      <td>0</td>\n",
       "      <td>1</td>\n",
       "      <td>97920</td>\n",
       "    </tr>\n",
       "    <tr>\n",
       "      <th>4</th>\n",
       "      <td>5</td>\n",
       "      <td>1</td>\n",
       "      <td>1</td>\n",
       "      <td>1</td>\n",
       "      <td>3</td>\n",
       "      <td>1</td>\n",
       "      <td>6</td>\n",
       "      <td>3508</td>\n",
       "      <td>1</td>\n",
       "      <td>0</td>\n",
       "      <td>0</td>\n",
       "      <td>59736</td>\n",
       "    </tr>\n",
       "    <tr>\n",
       "      <th>...</th>\n",
       "      <td>...</td>\n",
       "      <td>...</td>\n",
       "      <td>...</td>\n",
       "      <td>...</td>\n",
       "      <td>...</td>\n",
       "      <td>...</td>\n",
       "      <td>...</td>\n",
       "      <td>...</td>\n",
       "      <td>...</td>\n",
       "      <td>...</td>\n",
       "      <td>...</td>\n",
       "      <td>...</td>\n",
       "    </tr>\n",
       "    <tr>\n",
       "      <th>89387</th>\n",
       "      <td>89388</td>\n",
       "      <td>1</td>\n",
       "      <td>0</td>\n",
       "      <td>1</td>\n",
       "      <td>3</td>\n",
       "      <td>0</td>\n",
       "      <td>6</td>\n",
       "      <td>0</td>\n",
       "      <td>1</td>\n",
       "      <td>1</td>\n",
       "      <td>1</td>\n",
       "      <td>95736</td>\n",
       "    </tr>\n",
       "    <tr>\n",
       "      <th>89388</th>\n",
       "      <td>89389</td>\n",
       "      <td>1</td>\n",
       "      <td>1</td>\n",
       "      <td>0</td>\n",
       "      <td>1</td>\n",
       "      <td>1</td>\n",
       "      <td>0</td>\n",
       "      <td>3897</td>\n",
       "      <td>1</td>\n",
       "      <td>0</td>\n",
       "      <td>1</td>\n",
       "      <td>67596</td>\n",
       "    </tr>\n",
       "    <tr>\n",
       "      <th>89389</th>\n",
       "      <td>89390</td>\n",
       "      <td>0</td>\n",
       "      <td>1</td>\n",
       "      <td>0</td>\n",
       "      <td>1</td>\n",
       "      <td>0</td>\n",
       "      <td>4</td>\n",
       "      <td>3363</td>\n",
       "      <td>1</td>\n",
       "      <td>1</td>\n",
       "      <td>1</td>\n",
       "      <td>114120</td>\n",
       "    </tr>\n",
       "    <tr>\n",
       "      <th>89390</th>\n",
       "      <td>89391</td>\n",
       "      <td>0</td>\n",
       "      <td>0</td>\n",
       "      <td>1</td>\n",
       "      <td>0</td>\n",
       "      <td>0</td>\n",
       "      <td>8</td>\n",
       "      <td>0</td>\n",
       "      <td>1</td>\n",
       "      <td>1</td>\n",
       "      <td>1</td>\n",
       "      <td>71772</td>\n",
       "    </tr>\n",
       "    <tr>\n",
       "      <th>89391</th>\n",
       "      <td>89392</td>\n",
       "      <td>0</td>\n",
       "      <td>0</td>\n",
       "      <td>1</td>\n",
       "      <td>1</td>\n",
       "      <td>0</td>\n",
       "      <td>6</td>\n",
       "      <td>0</td>\n",
       "      <td>1</td>\n",
       "      <td>1</td>\n",
       "      <td>0</td>\n",
       "      <td>108144</td>\n",
       "    </tr>\n",
       "  </tbody>\n",
       "</table>\n",
       "<p>89392 rows × 12 columns</p>\n",
       "</div>"
      ],
      "text/plain": [
       "          id  gender  area  qualification  income  marital_status  vintage  \\\n",
       "0          1       1     1              0       1               1        5   \n",
       "1          2       1     0              1       1               0        8   \n",
       "2          3       1     1              0       1               1        8   \n",
       "3          4       0     0              1       1               0        7   \n",
       "4          5       1     1              1       3               1        6   \n",
       "...      ...     ...   ...            ...     ...             ...      ...   \n",
       "89387  89388       1     0              1       3               0        6   \n",
       "89388  89389       1     1              0       1               1        0   \n",
       "89389  89390       0     1              0       1               0        4   \n",
       "89390  89391       0     0              1       0               0        8   \n",
       "89391  89392       0     0              1       1               0        6   \n",
       "\n",
       "       claim_amount  num_policies  policy  type_of_policy    cltv  \n",
       "0              5790             1       0               1   64308  \n",
       "1              5080             1       0               1  515400  \n",
       "2              2599             1       0               1   64212  \n",
       "3                 0             1       0               1   97920  \n",
       "4              3508             1       0               0   59736  \n",
       "...             ...           ...     ...             ...     ...  \n",
       "89387             0             1       1               1   95736  \n",
       "89388          3897             1       0               1   67596  \n",
       "89389          3363             1       1               1  114120  \n",
       "89390             0             1       1               1   71772  \n",
       "89391             0             1       1               0  108144  \n",
       "\n",
       "[89392 rows x 12 columns]"
      ]
     },
     "execution_count": 56,
     "metadata": {},
     "output_type": "execute_result"
    }
   ],
   "source": [
    "cltv2"
   ]
  },
  {
   "cell_type": "code",
   "execution_count": 58,
   "id": "a8c65214",
   "metadata": {},
   "outputs": [
    {
     "name": "stdout",
     "output_type": "stream",
     "text": [
      "<class 'pandas.core.frame.DataFrame'>\n",
      "RangeIndex: 89392 entries, 0 to 89391\n",
      "Data columns (total 12 columns):\n",
      " #   Column          Non-Null Count  Dtype \n",
      "---  ------          --------------  ----- \n",
      " 0   id              89392 non-null  object\n",
      " 1   gender          89392 non-null  int32 \n",
      " 2   area            89392 non-null  int32 \n",
      " 3   qualification   89392 non-null  int32 \n",
      " 4   income          89392 non-null  int32 \n",
      " 5   marital_status  89392 non-null  int64 \n",
      " 6   vintage         89392 non-null  int64 \n",
      " 7   claim_amount    89392 non-null  int64 \n",
      " 8   num_policies    89392 non-null  int32 \n",
      " 9   policy          89392 non-null  int32 \n",
      " 10  type_of_policy  89392 non-null  int32 \n",
      " 11  cltv            89392 non-null  int64 \n",
      "dtypes: int32(7), int64(4), object(1)\n",
      "memory usage: 5.8+ MB\n"
     ]
    }
   ],
   "source": [
    "cltv2.info()"
   ]
  },
  {
   "cell_type": "code",
   "execution_count": 59,
   "id": "3f3ba42e",
   "metadata": {},
   "outputs": [],
   "source": [
    "cltv2.drop(['id'],axis=1,inplace=True)"
   ]
  },
  {
   "cell_type": "code",
   "execution_count": 60,
   "id": "05f4f250",
   "metadata": {},
   "outputs": [
    {
     "data": {
      "text/plain": [
       "<AxesSubplot:>"
      ]
     },
     "execution_count": 60,
     "metadata": {},
     "output_type": "execute_result"
    },
    {
     "data": {
      "image/png": "[encoded data removed]",
      "text/plain": [
       "<Figure size 640x480 with 2 Axes>"
      ]
     },
     "metadata": {},
     "output_type": "display_data"
    }
   ],
   "source": [
    "sns.heatmap(cltv2.corr(),annot=True)"
   ]
  },
  {
   "cell_type": "markdown",
   "id": "f04137dc",
   "metadata": {},
   "source": [
    " Claim amount is showing greater co- relation with cltv"
   ]
  },
  {
   "cell_type": "code",
   "execution_count": 133,
   "id": "dab85dff",
   "metadata": {},
   "outputs": [],
   "source": [
    "cltv2['claim_amount1']= cltv2['claim_amount'].apply(lambda x:1 if x==0 else x)"
   ]
  },
  {
   "cell_type": "code",
   "execution_count": 134,
   "id": "0f55a99c",
   "metadata": {},
   "outputs": [],
   "source": [
    "cltv2['log_claim']=np.log(cltv2['claim_amount1'])"
   ]
  },
  {
   "cell_type": "code",
   "execution_count": 135,
   "id": "a77f201a",
   "metadata": {},
   "outputs": [
    {
     "data": {
      "text/html": [
       "<div>\n",
       "<style scoped>\n",
       "    .dataframe tbody tr th:only-of-type {\n",
       "        vertical-align: middle;\n",
       "    }\n",
       "\n",
       "    .dataframe tbody tr th {\n",
       "        vertical-align: top;\n",
       "    }\n",
       "\n",
       "    .dataframe thead th {\n",
       "        text-align: right;\n",
       "    }\n",
       "</style>\n",
       "<table border=\"1\" class=\"dataframe\">\n",
       "  <thead>\n",
       "    <tr style=\"text-align: right;\">\n",
       "      <th></th>\n",
       "      <th>gender</th>\n",
       "      <th>area</th>\n",
       "      <th>qualification</th>\n",
       "      <th>income</th>\n",
       "      <th>marital_status</th>\n",
       "      <th>vintage</th>\n",
       "      <th>claim_amount</th>\n",
       "      <th>num_policies</th>\n",
       "      <th>policy</th>\n",
       "      <th>type_of_policy</th>\n",
       "      <th>cltv</th>\n",
       "      <th>log_claim</th>\n",
       "      <th>claim_amount1</th>\n",
       "    </tr>\n",
       "  </thead>\n",
       "  <tbody>\n",
       "    <tr>\n",
       "      <th>0</th>\n",
       "      <td>1</td>\n",
       "      <td>1</td>\n",
       "      <td>0</td>\n",
       "      <td>1</td>\n",
       "      <td>1</td>\n",
       "      <td>5</td>\n",
       "      <td>5790</td>\n",
       "      <td>1</td>\n",
       "      <td>0</td>\n",
       "      <td>1</td>\n",
       "      <td>64308</td>\n",
       "      <td>8.663888</td>\n",
       "      <td>5790</td>\n",
       "    </tr>\n",
       "    <tr>\n",
       "      <th>1</th>\n",
       "      <td>1</td>\n",
       "      <td>0</td>\n",
       "      <td>1</td>\n",
       "      <td>1</td>\n",
       "      <td>0</td>\n",
       "      <td>8</td>\n",
       "      <td>5080</td>\n",
       "      <td>1</td>\n",
       "      <td>0</td>\n",
       "      <td>1</td>\n",
       "      <td>515400</td>\n",
       "      <td>8.533067</td>\n",
       "      <td>5080</td>\n",
       "    </tr>\n",
       "    <tr>\n",
       "      <th>2</th>\n",
       "      <td>1</td>\n",
       "      <td>1</td>\n",
       "      <td>0</td>\n",
       "      <td>1</td>\n",
       "      <td>1</td>\n",
       "      <td>8</td>\n",
       "      <td>2599</td>\n",
       "      <td>1</td>\n",
       "      <td>0</td>\n",
       "      <td>1</td>\n",
       "      <td>64212</td>\n",
       "      <td>7.862882</td>\n",
       "      <td>2599</td>\n",
       "    </tr>\n",
       "    <tr>\n",
       "      <th>3</th>\n",
       "      <td>0</td>\n",
       "      <td>0</td>\n",
       "      <td>1</td>\n",
       "      <td>1</td>\n",
       "      <td>0</td>\n",
       "      <td>7</td>\n",
       "      <td>0</td>\n",
       "      <td>1</td>\n",
       "      <td>0</td>\n",
       "      <td>1</td>\n",
       "      <td>97920</td>\n",
       "      <td>0.000000</td>\n",
       "      <td>1</td>\n",
       "    </tr>\n",
       "    <tr>\n",
       "      <th>4</th>\n",
       "      <td>1</td>\n",
       "      <td>1</td>\n",
       "      <td>1</td>\n",
       "      <td>3</td>\n",
       "      <td>1</td>\n",
       "      <td>6</td>\n",
       "      <td>3508</td>\n",
       "      <td>1</td>\n",
       "      <td>0</td>\n",
       "      <td>0</td>\n",
       "      <td>59736</td>\n",
       "      <td>8.162801</td>\n",
       "      <td>3508</td>\n",
       "    </tr>\n",
       "  </tbody>\n",
       "</table>\n",
       "</div>"
      ],
      "text/plain": [
       "   gender  area  qualification  income  marital_status  vintage  claim_amount  \\\n",
       "0       1     1              0       1               1        5          5790   \n",
       "1       1     0              1       1               0        8          5080   \n",
       "2       1     1              0       1               1        8          2599   \n",
       "3       0     0              1       1               0        7             0   \n",
       "4       1     1              1       3               1        6          3508   \n",
       "\n",
       "   num_policies  policy  type_of_policy    cltv  log_claim  claim_amount1  \n",
       "0             1       0               1   64308   8.663888           5790  \n",
       "1             1       0               1  515400   8.533067           5080  \n",
       "2             1       0               1   64212   7.862882           2599  \n",
       "3             1       0               1   97920   0.000000              1  \n",
       "4             1       0               0   59736   8.162801           3508  "
      ]
     },
     "execution_count": 135,
     "metadata": {},
     "output_type": "execute_result"
    }
   ],
   "source": [
    "cltv2.head()"
   ]
  },
  {
   "cell_type": "code",
   "execution_count": 136,
   "id": "fd5b3a4a",
   "metadata": {},
   "outputs": [
    {
     "name": "stderr",
     "output_type": "stream",
     "text": [
      "C:\\Users\\Ap\\anaconda3\\lib\\site-packages\\seaborn\\distributions.py:2619: FutureWarning: `distplot` is a deprecated function and will be removed in a future version. Please adapt your code to use either `displot` (a figure-level function with similar flexibility) or `histplot` (an axes-level function for histograms).\n",
      "  warnings.warn(msg, FutureWarning)\n"
     ]
    },
    {
     "data": {
      "text/plain": [
       "<AxesSubplot:xlabel='log_claim'>"
      ]
     },
     "execution_count": 136,
     "metadata": {},
     "output_type": "execute_result"
    },
    {
     "data": {
      "image/png": "[encoded data removed]",
      "text/plain": [
       "<Figure size 640x480 with 1 Axes>"
      ]
     },
     "metadata": {},
     "output_type": "display_data"
    }
   ],
   "source": [
    "sns.distplot(cltv2['log_claim'], kde = False, color ='red')"
   ]
  },
  {
   "cell_type": "code",
   "execution_count": 61,
   "id": "b955c583",
   "metadata": {},
   "outputs": [
    {
     "name": "stderr",
     "output_type": "stream",
     "text": [
      "C:\\Users\\Ap\\anaconda3\\lib\\site-packages\\seaborn\\distributions.py:2619: FutureWarning: `distplot` is a deprecated function and will be removed in a future version. Please adapt your code to use either `displot` (a figure-level function with similar flexibility) or `histplot` (an axes-level function for histograms).\n",
      "  warnings.warn(msg, FutureWarning)\n"
     ]
    },
    {
     "data": {
      "text/plain": [
       "<AxesSubplot:xlabel='vintage'>"
      ]
     },
     "execution_count": 61,
     "metadata": {},
     "output_type": "execute_result"
    },
    {
     "data": {
      "image/png": "[encoded data removed]",
      "text/plain": [
       "<Figure size 640x480 with 1 Axes>"
      ]
     },
     "metadata": {},
     "output_type": "display_data"
    }
   ],
   "source": [
    "sns.distplot(cltv2['vintage'], kde = False, color ='red')"
   ]
  },
  {
   "cell_type": "code",
   "execution_count": 62,
   "id": "bf3e53b6",
   "metadata": {},
   "outputs": [
    {
     "data": {
      "text/plain": [
       "<AxesSubplot:xlabel='claim_amount'>"
      ]
     },
     "execution_count": 62,
     "metadata": {},
     "output_type": "execute_result"
    },
    {
     "data": {
      "image/png": "[encoded data removed]",
      "text/plain": [
       "<Figure size 640x480 with 1 Axes>"
      ]
     },
     "metadata": {},
     "output_type": "display_data"
    }
   ],
   "source": [
    "sns.distplot(cltv2['claim_amount'], kde = False, color ='red')"
   ]
  },
  {
   "cell_type": "code",
   "execution_count": 63,
   "id": "f1c30b19",
   "metadata": {},
   "outputs": [
    {
     "data": {
      "text/plain": [
       "<AxesSubplot:xlabel='income'>"
      ]
     },
     "execution_count": 63,
     "metadata": {},
     "output_type": "execute_result"
    },
    {
     "data": {
      "image/png": "[encoded data removed]",
      "text/plain": [
       "<Figure size 640x480 with 1 Axes>"
      ]
     },
     "metadata": {},
     "output_type": "display_data"
    }
   ],
   "source": [
    "sns.distplot(cltv2['income'], kde = False, color ='red')"
   ]
  },
  {
   "cell_type": "code",
   "execution_count": 64,
   "id": "67fa1eaa",
   "metadata": {},
   "outputs": [
    {
     "data": {
      "text/plain": [
       "<AxesSubplot:xlabel='gender'>"
      ]
     },
     "execution_count": 64,
     "metadata": {},
     "output_type": "execute_result"
    },
    {
     "data": {
      "image/png": "[encoded data removed]",
      "text/plain": [
       "<Figure size 640x480 with 1 Axes>"
      ]
     },
     "metadata": {},
     "output_type": "display_data"
    }
   ],
   "source": [
    "sns.distplot(cltv2['gender'], kde = False, color ='red')"
   ]
  },
  {
   "cell_type": "code",
   "execution_count": 65,
   "id": "7fc643e7",
   "metadata": {},
   "outputs": [
    {
     "data": {
      "text/plain": [
       "<AxesSubplot:xlabel='area'>"
      ]
     },
     "execution_count": 65,
     "metadata": {},
     "output_type": "execute_result"
    },
    {
     "data": {
      "image/png": "[encoded data removed]",
      "text/plain": [
       "<Figure size 640x480 with 1 Axes>"
      ]
     },
     "metadata": {},
     "output_type": "display_data"
    }
   ],
   "source": [
    "sns.distplot(cltv2['area'], kde = False, color ='red')"
   ]
  },
  {
   "cell_type": "code",
   "execution_count": 66,
   "id": "22ad91e8",
   "metadata": {},
   "outputs": [
    {
     "data": {
      "text/plain": [
       "<AxesSubplot:xlabel='qualification'>"
      ]
     },
     "execution_count": 66,
     "metadata": {},
     "output_type": "execute_result"
    },
    {
     "data": {
      "image/png": "[encoded data removed]",
      "text/plain": [
       "<Figure size 640x480 with 1 Axes>"
      ]
     },
     "metadata": {},
     "output_type": "display_data"
    }
   ],
   "source": [
    "sns.distplot(cltv2['qualification'], kde = False, color ='red')"
   ]
  },
  {
   "cell_type": "code",
   "execution_count": 67,
   "id": "84900656",
   "metadata": {},
   "outputs": [
    {
     "data": {
      "text/plain": [
       "<AxesSubplot:xlabel='marital_status'>"
      ]
     },
     "execution_count": 67,
     "metadata": {},
     "output_type": "execute_result"
    },
    {
     "data": {
      "image/png": "[encoded data removed]",
      "text/plain": [
       "<Figure size 640x480 with 1 Axes>"
      ]
     },
     "metadata": {},
     "output_type": "display_data"
    }
   ],
   "source": [
    "sns.distplot(cltv2['marital_status'], kde = False, color ='red')"
   ]
  },
  {
   "cell_type": "code",
   "execution_count": 68,
   "id": "6774d454",
   "metadata": {},
   "outputs": [
    {
     "data": {
      "text/plain": [
       "<AxesSubplot:xlabel='num_policies'>"
      ]
     },
     "execution_count": 68,
     "metadata": {},
     "output_type": "execute_result"
    },
    {
     "data": {
      "image/png": "[encoded data removed]",
      "text/plain": [
       "<Figure size 640x480 with 1 Axes>"
      ]
     },
     "metadata": {},
     "output_type": "display_data"
    }
   ],
   "source": [
    "sns.distplot(cltv2['num_policies'], kde = False, color ='red')"
   ]
  },
  {
   "cell_type": "code",
   "execution_count": 69,
   "id": "790b16b1",
   "metadata": {},
   "outputs": [
    {
     "data": {
      "text/plain": [
       "<AxesSubplot:xlabel='policy'>"
      ]
     },
     "execution_count": 69,
     "metadata": {},
     "output_type": "execute_result"
    },
    {
     "data": {
      "image/png": "[encoded data removed]",
      "text/plain": [
       "<Figure size 640x480 with 1 Axes>"
      ]
     },
     "metadata": {},
     "output_type": "display_data"
    }
   ],
   "source": [
    "sns.distplot(cltv2['policy'], kde = False, color ='red')"
   ]
  },
  {
   "cell_type": "code",
   "execution_count": 70,
   "id": "a666f560",
   "metadata": {},
   "outputs": [
    {
     "data": {
      "text/plain": [
       "<AxesSubplot:xlabel='type_of_policy'>"
      ]
     },
     "execution_count": 70,
     "metadata": {},
     "output_type": "execute_result"
    },
    {
     "data": {
      "image/png": "[encoded data removed]",
      "text/plain": [
       "<Figure size 640x480 with 1 Axes>"
      ]
     },
     "metadata": {},
     "output_type": "display_data"
    }
   ],
   "source": [
    "sns.distplot(cltv2['type_of_policy'], kde = False, color ='red')"
   ]
  },
  {
   "cell_type": "code",
   "execution_count": 71,
   "id": "afd8bf77",
   "metadata": {},
   "outputs": [
    {
     "data": {
      "text/plain": [
       "<AxesSubplot:xlabel='cltv'>"
      ]
     },
     "execution_count": 71,
     "metadata": {},
     "output_type": "execute_result"
    },
    {
     "data": {
      "image/png": "[encoded data removed]",
      "text/plain": [
       "<Figure size 640x480 with 1 Axes>"
      ]
     },
     "metadata": {},
     "output_type": "display_data"
    }
   ],
   "source": [
    "sns.distplot(cltv2['cltv'], kde = False, color ='red')"
   ]
  },
  {
   "cell_type": "code",
   "execution_count": 103,
   "id": "0601a2da",
   "metadata": {},
   "outputs": [
    {
     "data": {
      "text/plain": [
       "((89392, 10), (89392,))"
      ]
     },
     "execution_count": 103,
     "metadata": {},
     "output_type": "execute_result"
    }
   ],
   "source": [
    "x=cltv2.drop(['cltv'],axis=1)\n",
    "y=cltv2['cltv']\n",
    "x.shape,y.shape"
   ]
  },
  {
   "cell_type": "code",
   "execution_count": 104,
   "id": "85a6c9fd",
   "metadata": {},
   "outputs": [],
   "source": [
    "from sklearn.model_selection import train_test_split\n",
    "train_x,test_x,train_y,test_y=train_test_split(x,y,random_state=59)"
   ]
  },
  {
   "cell_type": "code",
   "execution_count": 105,
   "id": "c0d0b7b7",
   "metadata": {},
   "outputs": [],
   "source": [
    "from sklearn.linear_model import LinearRegression as LR\n",
    "from sklearn.tree import DecisionTreeRegressor\n",
    "from sklearn.metrics import mean_absolute_error as mae\n",
    "from sklearn.metrics import mean_squared_error, r2_score\n",
    "from math import sqrt"
   ]
  },
  {
   "cell_type": "markdown",
   "id": "64208b6d",
   "metadata": {},
   "source": [
    "# Linear Regression"
   ]
  },
  {
   "cell_type": "code",
   "execution_count": 106,
   "id": "2aaa5e5a",
   "metadata": {},
   "outputs": [
    {
     "data": {
      "text/plain": [
       "LinearRegression()"
      ]
     },
     "execution_count": 106,
     "metadata": {},
     "output_type": "execute_result"
    }
   ],
   "source": [
    "lr=LR()\n",
    "lr.fit(train_x,train_y)"
   ]
  },
  {
   "cell_type": "code",
   "execution_count": 115,
   "id": "1230f758",
   "metadata": {},
   "outputs": [
    {
     "name": "stdout",
     "output_type": "stream",
     "text": [
      "Training mean absolute error  51454.466558250984\n",
      "-4.712053031506357\n",
      "training error is 83618.24966070996\n"
     ]
    }
   ],
   "source": [
    "train_predict=lr.predict(train_x)\n",
    "k=mae(train_predict,train_y)\n",
    "print('Training mean absolute error ',k)\n",
    "rmse=sqrt(mean_squared_error(train_predict,train_y))\n",
    "print(r2_score(train_predict,train_y))\n",
    "print(f\"training error is {rmse}\")"
   ]
  },
  {
   "cell_type": "code",
   "execution_count": 120,
   "id": "bfde2c75",
   "metadata": {},
   "outputs": [
    {
     "name": "stdout",
     "output_type": "stream",
     "text": [
      "Test mean absolute error  51426.620412216944\n",
      "-4.704407680965692\n",
      "testing error is 83460.9684144458\n"
     ]
    }
   ],
   "source": [
    "test_predict=lr.predict(test_x)\n",
    "k=mae(test_predict,test_y)\n",
    "print('Test mean absolute error ',k)\n",
    "rmse=sqrt(mean_squared_error(test_predict,test_y))\n",
    "print(r2_score(test_predict,test_y))\n",
    "print(f\"testing error is {rmse}\")"
   ]
  },
  {
   "cell_type": "code",
   "execution_count": 111,
   "id": "79e0e5d3",
   "metadata": {},
   "outputs": [
    {
     "data": {
      "text/plain": [
       "array([ 1.52849503e+03,  7.72523557e+03, -1.78350536e+03, -1.72250670e+03,\n",
       "       -7.06204800e+03,  2.05275863e+02,  2.96818873e+00,  6.43717700e+04,\n",
       "        6.74611574e+02, -1.52713904e+03])"
      ]
     },
     "execution_count": 111,
     "metadata": {},
     "output_type": "execute_result"
    }
   ],
   "source": [
    "lr.coef_"
   ]
  },
  {
   "cell_type": "code",
   "execution_count": 112,
   "id": "fa15552a",
   "metadata": {},
   "outputs": [
    {
     "data": {
      "text/plain": [
       "Text(0.5, 1.0, 'Coefficient plot')"
      ]
     },
     "execution_count": 112,
     "metadata": {},
     "output_type": "execute_result"
    },
    {
     "data": {
      "image/png": "[encoded data removed]",
      "text/plain": [
       "<Figure size 960x720 with 1 Axes>"
      ]
     },
     "metadata": {},
     "output_type": "display_data"
    }
   ],
   "source": [
    "plt.figure(figsize=(8,6),dpi=120,facecolor='w',edgecolor='b')\n",
    "x=range(len(train_x.columns))\n",
    "y=lr.coef_\n",
    "plt.bar(x,y)\n",
    "plt.xlabel=('variables')\n",
    "plt.ylabel=('Coefficients')\n",
    "plt.title('Coefficient plot')"
   ]
  },
  {
   "cell_type": "markdown",
   "id": "36fc7c5e",
   "metadata": {},
   "source": [
    "# Decision Tree Regressor"
   ]
  },
  {
   "cell_type": "code",
   "execution_count": 121,
   "id": "71f96cd0",
   "metadata": {},
   "outputs": [
    {
     "data": {
      "text/plain": [
       "DecisionTreeRegressor(random_state=42)"
      ]
     },
     "execution_count": 121,
     "metadata": {},
     "output_type": "execute_result"
    }
   ],
   "source": [
    "regressor = DecisionTreeRegressor(random_state=42)\n",
    "regressor.fit(train_x,train_y)"
   ]
  },
  {
   "cell_type": "code",
   "execution_count": 122,
   "id": "f4519c0d",
   "metadata": {},
   "outputs": [
    {
     "name": "stdout",
     "output_type": "stream",
     "text": [
      "Training mean absolute error  4643.301208296616\n",
      "0.9464842009991914\n",
      "training error is 20968.803675948046\n"
     ]
    }
   ],
   "source": [
    "train_predict=regressor.predict(train_x)\n",
    "k=mae(train_predict,train_y)\n",
    "print('Training mean absolute error ',k)\n",
    "rmse=sqrt(mean_squared_error(train_y,train_predict))\n",
    "print(r2_score(train_y,train_predict))\n",
    "print(f\"training error is {rmse}\")"
   ]
  },
  {
   "cell_type": "code",
   "execution_count": 123,
   "id": "61e1891f",
   "metadata": {},
   "outputs": [
    {
     "name": "stdout",
     "output_type": "stream",
     "text": [
      "Test mean absolute error  67630.8469661715\n",
      "-0.7023879234557959\n",
      "testing error is 118112.49794735877\n"
     ]
    }
   ],
   "source": [
    "test_predict=regressor.predict(test_x)\n",
    "k=mae(test_predict,test_y)\n",
    "print('Test mean absolute error ',k)\n",
    "rmse=sqrt(mean_squared_error(test_y,test_predict))\n",
    "print(r2_score(test_y,test_predict))\n",
    "print(f\"testing error is {rmse}\")"
   ]
  },
  {
   "cell_type": "markdown",
   "id": "0d0893cc",
   "metadata": {},
   "source": [
    "# Random forest regression"
   ]
  },
  {
   "cell_type": "code",
   "execution_count": 125,
   "id": "9d4f53c2",
   "metadata": {},
   "outputs": [],
   "source": [
    "from sklearn.ensemble import RandomForestRegressor"
   ]
  },
  {
   "cell_type": "code",
   "execution_count": 126,
   "id": "53b30de3",
   "metadata": {},
   "outputs": [
    {
     "data": {
      "text/plain": [
       "RandomForestRegressor(random_state=42)"
      ]
     },
     "execution_count": 126,
     "metadata": {},
     "output_type": "execute_result"
    }
   ],
   "source": [
    "rf = RandomForestRegressor(random_state=42)\n",
    "rf.fit(train_x,train_y)"
   ]
  },
  {
   "cell_type": "code",
   "execution_count": 127,
   "id": "c4402a7c",
   "metadata": {},
   "outputs": [
    {
     "name": "stdout",
     "output_type": "stream",
     "text": [
      "Training mean absolute error  23104.984005860337\n",
      "0.8228403828821869\n",
      "training error is 38151.798272897926\n"
     ]
    }
   ],
   "source": [
    "train_predict=rf.predict(train_x)\n",
    "k=mae(train_predict,train_y)\n",
    "print('Training mean absolute error ',k)\n",
    "rmse=sqrt(mean_squared_error(train_y,train_predict))\n",
    "print(r2_score(train_y,train_predict))\n",
    "print(f\"training error is {rmse}\")"
   ]
  },
  {
   "cell_type": "code",
   "execution_count": 128,
   "id": "d5021c7f",
   "metadata": {},
   "outputs": [
    {
     "name": "stdout",
     "output_type": "stream",
     "text": [
      "Test mean absolute error  55304.56932601471\n",
      "0.04503493400141512\n",
      "testing error is 88462.72881183858\n"
     ]
    }
   ],
   "source": [
    "test_predict=rf.predict(test_x)\n",
    "k=mae(test_predict,test_y)\n",
    "print('Test mean absolute error ',k)\n",
    "rmse=sqrt(mean_squared_error(test_y,test_predict))\n",
    "print(r2_score(test_y,test_predict))\n",
    "print(f\"testing error is {rmse}\")"
   ]
  },
  {
   "cell_type": "code",
   "execution_count": 137,
   "id": "b4a440b4",
   "metadata": {},
   "outputs": [],
   "source": [
    "cltv3=cltv2.drop(['claim_amount', 'claim_amount1'], axis=1)"
   ]
  },
  {
   "cell_type": "code",
   "execution_count": 138,
   "id": "522db13f",
   "metadata": {},
   "outputs": [
    {
     "data": {
      "text/html": [
       "<div>\n",
       "<style scoped>\n",
       "    .dataframe tbody tr th:only-of-type {\n",
       "        vertical-align: middle;\n",
       "    }\n",
       "\n",
       "    .dataframe tbody tr th {\n",
       "        vertical-align: top;\n",
       "    }\n",
       "\n",
       "    .dataframe thead th {\n",
       "        text-align: right;\n",
       "    }\n",
       "</style>\n",
       "<table border=\"1\" class=\"dataframe\">\n",
       "  <thead>\n",
       "    <tr style=\"text-align: right;\">\n",
       "      <th></th>\n",
       "      <th>gender</th>\n",
       "      <th>area</th>\n",
       "      <th>qualification</th>\n",
       "      <th>income</th>\n",
       "      <th>marital_status</th>\n",
       "      <th>vintage</th>\n",
       "      <th>num_policies</th>\n",
       "      <th>policy</th>\n",
       "      <th>type_of_policy</th>\n",
       "      <th>cltv</th>\n",
       "      <th>log_claim</th>\n",
       "    </tr>\n",
       "  </thead>\n",
       "  <tbody>\n",
       "    <tr>\n",
       "      <th>0</th>\n",
       "      <td>1</td>\n",
       "      <td>1</td>\n",
       "      <td>0</td>\n",
       "      <td>1</td>\n",
       "      <td>1</td>\n",
       "      <td>5</td>\n",
       "      <td>1</td>\n",
       "      <td>0</td>\n",
       "      <td>1</td>\n",
       "      <td>64308</td>\n",
       "      <td>8.663888</td>\n",
       "    </tr>\n",
       "    <tr>\n",
       "      <th>1</th>\n",
       "      <td>1</td>\n",
       "      <td>0</td>\n",
       "      <td>1</td>\n",
       "      <td>1</td>\n",
       "      <td>0</td>\n",
       "      <td>8</td>\n",
       "      <td>1</td>\n",
       "      <td>0</td>\n",
       "      <td>1</td>\n",
       "      <td>515400</td>\n",
       "      <td>8.533067</td>\n",
       "    </tr>\n",
       "    <tr>\n",
       "      <th>2</th>\n",
       "      <td>1</td>\n",
       "      <td>1</td>\n",
       "      <td>0</td>\n",
       "      <td>1</td>\n",
       "      <td>1</td>\n",
       "      <td>8</td>\n",
       "      <td>1</td>\n",
       "      <td>0</td>\n",
       "      <td>1</td>\n",
       "      <td>64212</td>\n",
       "      <td>7.862882</td>\n",
       "    </tr>\n",
       "    <tr>\n",
       "      <th>3</th>\n",
       "      <td>0</td>\n",
       "      <td>0</td>\n",
       "      <td>1</td>\n",
       "      <td>1</td>\n",
       "      <td>0</td>\n",
       "      <td>7</td>\n",
       "      <td>1</td>\n",
       "      <td>0</td>\n",
       "      <td>1</td>\n",
       "      <td>97920</td>\n",
       "      <td>0.000000</td>\n",
       "    </tr>\n",
       "    <tr>\n",
       "      <th>4</th>\n",
       "      <td>1</td>\n",
       "      <td>1</td>\n",
       "      <td>1</td>\n",
       "      <td>3</td>\n",
       "      <td>1</td>\n",
       "      <td>6</td>\n",
       "      <td>1</td>\n",
       "      <td>0</td>\n",
       "      <td>0</td>\n",
       "      <td>59736</td>\n",
       "      <td>8.162801</td>\n",
       "    </tr>\n",
       "  </tbody>\n",
       "</table>\n",
       "</div>"
      ],
      "text/plain": [
       "   gender  area  qualification  income  marital_status  vintage  num_policies  \\\n",
       "0       1     1              0       1               1        5             1   \n",
       "1       1     0              1       1               0        8             1   \n",
       "2       1     1              0       1               1        8             1   \n",
       "3       0     0              1       1               0        7             1   \n",
       "4       1     1              1       3               1        6             1   \n",
       "\n",
       "   policy  type_of_policy    cltv  log_claim  \n",
       "0       0               1   64308   8.663888  \n",
       "1       0               1  515400   8.533067  \n",
       "2       0               1   64212   7.862882  \n",
       "3       0               1   97920   0.000000  \n",
       "4       0               0   59736   8.162801  "
      ]
     },
     "execution_count": 138,
     "metadata": {},
     "output_type": "execute_result"
    }
   ],
   "source": [
    "cltv3.head()"
   ]
  },
  {
   "cell_type": "code",
   "execution_count": 139,
   "id": "c9134400",
   "metadata": {},
   "outputs": [
    {
     "data": {
      "text/plain": [
       "((89392, 10), (89392,))"
      ]
     },
     "execution_count": 139,
     "metadata": {},
     "output_type": "execute_result"
    }
   ],
   "source": [
    "x=cltv3.drop(['cltv'],axis=1)\n",
    "y=cltv3['cltv']\n",
    "x.shape,y.shape"
   ]
  },
  {
   "cell_type": "code",
   "execution_count": 140,
   "id": "d1b6f3c8",
   "metadata": {},
   "outputs": [],
   "source": [
    "train_x,test_x,train_y,test_y=train_test_split(x,y,random_state=59)"
   ]
  },
  {
   "cell_type": "code",
   "execution_count": 141,
   "id": "fcf677d4",
   "metadata": {},
   "outputs": [
    {
     "data": {
      "text/plain": [
       "RandomForestRegressor(random_state=42)"
      ]
     },
     "execution_count": 141,
     "metadata": {},
     "output_type": "execute_result"
    }
   ],
   "source": [
    "rf = RandomForestRegressor(random_state=42)\n",
    "rf.fit(train_x,train_y)"
   ]
  },
  {
   "cell_type": "code",
   "execution_count": 142,
   "id": "014c7374",
   "metadata": {},
   "outputs": [
    {
     "name": "stdout",
     "output_type": "stream",
     "text": [
      "Training mean absolute error  23111.441333297884\n",
      "0.8228412449360726\n",
      "training error is 38151.70544997787\n"
     ]
    }
   ],
   "source": [
    "train_predict=rf.predict(train_x)\n",
    "k=mae(train_predict,train_y)\n",
    "print('Training mean absolute error ',k)\n",
    "rmse=sqrt(mean_squared_error(train_y,train_predict))\n",
    "print(r2_score(train_y,train_predict))\n",
    "print(f\"training error is {rmse}\")"
   ]
  },
  {
   "cell_type": "code",
   "execution_count": 143,
   "id": "90f085b6",
   "metadata": {},
   "outputs": [
    {
     "name": "stdout",
     "output_type": "stream",
     "text": [
      "Test mean absolute error  55304.47743546522\n",
      "0.04533632253996811\n",
      "testing error is 88448.76821922128\n"
     ]
    }
   ],
   "source": [
    "test_predict=rf.predict(test_x)\n",
    "k=mae(test_predict,test_y)\n",
    "print('Test mean absolute error ',k)\n",
    "rmse=sqrt(mean_squared_error(test_y,test_predict))\n",
    "print(r2_score(test_y,test_predict))\n",
    "print(f\"testing error is {rmse}\")"
   ]
  },
  {
   "cell_type": "code",
   "execution_count": 144,
   "id": "030f054a",
   "metadata": {},
   "outputs": [
    {
     "data": {
      "text/plain": [
       "array([0.03505657, 0.00857159, 0.04766523, 0.05119787, 0.01857813,\n",
       "       0.12200414, 0.13471281, 0.01965158, 0.05918957, 0.50337252])"
      ]
     },
     "execution_count": 144,
     "metadata": {},
     "output_type": "execute_result"
    }
   ],
   "source": [
    "rf.feature_importances_"
   ]
  },
  {
   "cell_type": "markdown",
   "id": "572723ec",
   "metadata": {},
   "source": [
    "# In linear Regression r2_score value is negative"
   ]
  },
  {
   "cell_type": "markdown",
   "id": "ecf13677",
   "metadata": {},
   "source": [
    "# When we used DT Regressor and Random Forest we are getting less trainning errors and more testing errors."
   ]
  }
 ],
 "metadata": {
  "kernelspec": {
   "display_name": "Python 3 (ipykernel)",
   "language": "python",
   "name": "python3"
  },
  "language_info": {
   "codemirror_mode": {
    "name": "ipython",
    "version": 3
   },
   "file_extension": ".py",
   "mimetype": "text/x-python",
   "name": "python",
   "nbconvert_exporter": "python",
   "pygments_lexer": "ipython3",
   "version": "3.9.13"
  }
 },
 "nbformat": 4,
 "nbformat_minor": 5
}
